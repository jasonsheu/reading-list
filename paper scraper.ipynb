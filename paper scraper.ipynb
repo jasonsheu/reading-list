{
 "cells": [
  {
   "cell_type": "code",
   "execution_count": 63,
   "id": "488e0dad",
   "metadata": {},
   "outputs": [
    {
     "name": "stdout",
     "output_type": "stream",
     "text": [
      "Markdown file generated: trending-ml-papers.md\n"
     ]
    }
   ],
   "source": [
    "import re\n",
    "import numpy as np\n",
    "import requests\n",
    "from bs4 import BeautifulSoup\n",
    "from datetime import date, timedelta\n",
    "\n",
    "#scrape huggingface\n",
    "url = \"https://huggingface.co/papers/trending\"\n",
    "resp = requests.get(url, headers={\"User-Agent\": \"Mozilla/5.0\"})\n",
    "resp.raise_for_status()\n",
    "soup = BeautifulSoup(resp.text, \"html.parser\")\n",
    "\n",
    "matches = []\n",
    "for a in soup.select('a'):\n",
    "    a = str(a)\n",
    "    search = re.search(r\"\\/papers\\/\\d+\\.\\d+\", a)\n",
    "    if search:\n",
    "        matches.append(search.group())\n",
    "\n",
    "matches = np.array(matches)\n",
    "matches = np.unique(matches)\n",
    "matches = np.random.choice(matches, 10, replace=False)  # pick 10 random papers\n",
    "\n",
    "urls = [\"https://huggingface.co\" + m for m in matches]\n",
    "\n",
    "# get paper titles\n",
    "paper_entries = []\n",
    "for u in urls:\n",
    "    try:\n",
    "        r = requests.get(u, headers={\"User-Agent\": \"Mozilla/5.0\"})\n",
    "        r.raise_for_status()\n",
    "        page = BeautifulSoup(r.text, \"html.parser\")\n",
    "        title_el = page.find(\"h1\")\n",
    "        title = title_el.get_text(strip=True) if title_el else \"Unknown Title\"\n",
    "\n",
    "        paper_entries.append((title, u))\n",
    "    except Exception as e:\n",
    "        paper_entries.append((\"Error fetching title\", u))\n",
    "\n",
    "\n",
    "# get date\n",
    "today = date.today()\n",
    "monday = today - timedelta(days=today.weekday())  # start of week\n",
    "sunday = monday + timedelta(days=6)               # end of week\n",
    "week_range = f\"{monday.strftime('%B %d, %Y')} – {sunday.strftime('%B %d, %Y')}\"\n",
    "\n",
    "# Prepare Jekyll frontmatter\n",
    "jekyll_date = today.strftime(\"%Y-%m-%d\")\n",
    "jekyll_frontmatter = f\"---\\ntitle: \\\"Trending ML/AI Papers\\\"\\ndate: {jekyll_date}\\nlayout: post\\n---\\n\\n\"\n",
    "\n",
    "# Build markdown\n",
    "markdown_output = jekyll_frontmatter\n",
    "markdown_output += f\"# Trending ML/AI Papers from the week of {week_range}\\n\\n\"\n",
    "for i, (title, link) in enumerate(paper_entries, 1):\n",
    "    markdown_output += f\"### {i}. [{title}]({link})\\n\\n\"\n",
    "    markdown_output += f\"{abstract}\\n\\n\"\n",
    "\n",
    "# Step 6: Save to Jekyll _posts folder\n",
    "output_path = \"trending-ml-papers.md\"\n",
    "with open(output_path, \"w\", encoding=\"utf-8\") as f:\n",
    "    f.write(markdown_output)\n",
    "\n",
    "print(f\"Markdown file generated: {output_path}\")"
   ]
  }
 ],
 "metadata": {
  "kernelspec": {
   "display_name": "Python 3 (ipykernel)",
   "language": "python",
   "name": "python3"
  },
  "language_info": {
   "codemirror_mode": {
    "name": "ipython",
    "version": 3
   },
   "file_extension": ".py",
   "mimetype": "text/x-python",
   "name": "python",
   "nbconvert_exporter": "python",
   "pygments_lexer": "ipython3",
   "version": "3.10.9"
  }
 },
 "nbformat": 4,
 "nbformat_minor": 5
}
